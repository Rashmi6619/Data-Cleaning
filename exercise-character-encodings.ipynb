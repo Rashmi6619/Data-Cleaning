{
 "cells": [
  {
   "cell_type": "markdown",
   "id": "38af241a",
   "metadata": {
    "papermill": {
     "duration": 0.007184,
     "end_time": "2022-07-11T13:00:50.704827",
     "exception": false,
     "start_time": "2022-07-11T13:00:50.697643",
     "status": "completed"
    },
    "tags": []
   },
   "source": [
    "**This notebook is an exercise in the [Data Cleaning](https://www.kaggle.com/learn/data-cleaning) course.  You can reference the tutorial at [this link](https://www.kaggle.com/alexisbcook/character-encodings).**\n",
    "\n",
    "---\n"
   ]
  },
  {
   "cell_type": "markdown",
   "id": "9c7417e2",
   "metadata": {
    "papermill": {
     "duration": 0.00576,
     "end_time": "2022-07-11T13:00:50.717158",
     "exception": false,
     "start_time": "2022-07-11T13:00:50.711398",
     "status": "completed"
    },
    "tags": []
   },
   "source": [
    "In this exercise, you'll apply what you learned in the **Character encodings** tutorial.\n",
    "\n",
    "# Setup\n",
    "\n",
    "The questions below will give you feedback on your work. Run the following cell to set up the feedback system."
   ]
  },
  {
   "cell_type": "code",
   "execution_count": 1,
   "id": "71602c06",
   "metadata": {
    "execution": {
     "iopub.execute_input": "2022-07-11T13:00:50.731502Z",
     "iopub.status.busy": "2022-07-11T13:00:50.730627Z",
     "iopub.status.idle": "2022-07-11T13:00:50.882495Z",
     "shell.execute_reply": "2022-07-11T13:00:50.880301Z"
    },
    "papermill": {
     "duration": 0.164623,
     "end_time": "2022-07-11T13:00:50.887583",
     "exception": false,
     "start_time": "2022-07-11T13:00:50.722960",
     "status": "completed"
    },
    "tags": []
   },
   "outputs": [
    {
     "name": "stdout",
     "output_type": "stream",
     "text": [
      "Setup Complete\n"
     ]
    }
   ],
   "source": [
    "from learntools.core import binder\n",
    "binder.bind(globals())\n",
    "from learntools.data_cleaning.ex4 import *\n",
    "print(\"Setup Complete\")"
   ]
  },
  {
   "cell_type": "markdown",
   "id": "d04e443d",
   "metadata": {
    "papermill": {
     "duration": 0.007557,
     "end_time": "2022-07-11T13:00:50.902608",
     "exception": false,
     "start_time": "2022-07-11T13:00:50.895051",
     "status": "completed"
    },
    "tags": []
   },
   "source": [
    "# Get our environment set up\n",
    "\n",
    "The first thing we'll need to do is load in the libraries we'll be using."
   ]
  },
  {
   "cell_type": "code",
   "execution_count": 2,
   "id": "2fb2b420",
   "metadata": {
    "execution": {
     "iopub.execute_input": "2022-07-11T13:00:50.919822Z",
     "iopub.status.busy": "2022-07-11T13:00:50.917684Z",
     "iopub.status.idle": "2022-07-11T13:00:50.926608Z",
     "shell.execute_reply": "2022-07-11T13:00:50.925445Z"
    },
    "papermill": {
     "duration": 0.020688,
     "end_time": "2022-07-11T13:00:50.929653",
     "exception": false,
     "start_time": "2022-07-11T13:00:50.908965",
     "status": "completed"
    },
    "tags": []
   },
   "outputs": [],
   "source": [
    "# modules we'll use\n",
    "import pandas as pd\n",
    "import numpy as np\n",
    "\n",
    "# helpful character encoding module\n",
    "import chardet\n",
    "\n",
    "# set seed for reproducibility\n",
    "np.random.seed(0)"
   ]
  },
  {
   "cell_type": "markdown",
   "id": "438ac25d",
   "metadata": {
    "papermill": {
     "duration": 0.00649,
     "end_time": "2022-07-11T13:00:50.942397",
     "exception": false,
     "start_time": "2022-07-11T13:00:50.935907",
     "status": "completed"
    },
    "tags": []
   },
   "source": [
    "# 1) What are encodings?\n",
    "\n",
    "You're working with a dataset composed of bytes.  Run the code cell below to print a sample entry."
   ]
  },
  {
   "cell_type": "code",
   "execution_count": 3,
   "id": "b643951d",
   "metadata": {
    "execution": {
     "iopub.execute_input": "2022-07-11T13:00:50.959008Z",
     "iopub.status.busy": "2022-07-11T13:00:50.958093Z",
     "iopub.status.idle": "2022-07-11T13:00:50.965820Z",
     "shell.execute_reply": "2022-07-11T13:00:50.964208Z"
    },
    "papermill": {
     "duration": 0.018885,
     "end_time": "2022-07-11T13:00:50.968788",
     "exception": false,
     "start_time": "2022-07-11T13:00:50.949903",
     "status": "completed"
    },
    "tags": []
   },
   "outputs": [
    {
     "name": "stdout",
     "output_type": "stream",
     "text": [
      "b'\\xa7A\\xa6n'\n",
      "data type: <class 'bytes'>\n"
     ]
    }
   ],
   "source": [
    "sample_entry = b'\\xa7A\\xa6n'\n",
    "print(sample_entry)\n",
    "print('data type:', type(sample_entry))"
   ]
  },
  {
   "cell_type": "markdown",
   "id": "4077ffd9",
   "metadata": {
    "papermill": {
     "duration": 0.006547,
     "end_time": "2022-07-11T13:00:50.981781",
     "exception": false,
     "start_time": "2022-07-11T13:00:50.975234",
     "status": "completed"
    },
    "tags": []
   },
   "source": [
    "You notice that it doesn't use the standard UTF-8 encoding. \n",
    "\n",
    "Use the next code cell to create a variable `new_entry` that changes the encoding from `\"big5-tw\"` to `\"utf-8\"`.  `new_entry` should have the bytes datatype."
   ]
  },
  {
   "cell_type": "code",
   "execution_count": 4,
   "id": "fa7ac369",
   "metadata": {
    "execution": {
     "iopub.execute_input": "2022-07-11T13:00:50.997022Z",
     "iopub.status.busy": "2022-07-11T13:00:50.995773Z",
     "iopub.status.idle": "2022-07-11T13:00:51.011981Z",
     "shell.execute_reply": "2022-07-11T13:00:51.010659Z"
    },
    "papermill": {
     "duration": 0.026624,
     "end_time": "2022-07-11T13:00:51.014643",
     "exception": false,
     "start_time": "2022-07-11T13:00:50.988019",
     "status": "completed"
    },
    "tags": []
   },
   "outputs": [
    {
     "data": {
      "application/javascript": [
       "parent.postMessage({\"jupyterEvent\": \"custom.exercise_interaction\", \"data\": {\"outcomeType\": 1, \"valueTowardsCompletion\": 0.3333333333333333, \"interactionType\": 1, \"questionType\": 1, \"questionId\": \"1_EncodingsIntro\", \"learnToolsVersion\": \"0.3.4\", \"failureMessage\": \"\", \"exceptionClass\": \"\", \"trace\": \"\"}}, \"*\")"
      ],
      "text/plain": [
       "<IPython.core.display.Javascript object>"
      ]
     },
     "metadata": {},
     "output_type": "display_data"
    },
    {
     "data": {
      "text/markdown": [
       "<span style=\"color:#33cc33\">Correct</span>"
      ],
      "text/plain": [
       "Correct"
      ]
     },
     "metadata": {},
     "output_type": "display_data"
    }
   ],
   "source": [
    "before = sample_entry.decode(\"big5-tw\")\n",
    "new_entry = before.encode()\n",
    "\n",
    "# Check your answer\n",
    "q1.check()"
   ]
  },
  {
   "cell_type": "code",
   "execution_count": 5,
   "id": "48a1560d",
   "metadata": {
    "execution": {
     "iopub.execute_input": "2022-07-11T13:00:51.030087Z",
     "iopub.status.busy": "2022-07-11T13:00:51.029120Z",
     "iopub.status.idle": "2022-07-11T13:00:51.034687Z",
     "shell.execute_reply": "2022-07-11T13:00:51.033729Z"
    },
    "papermill": {
     "duration": 0.01679,
     "end_time": "2022-07-11T13:00:51.037543",
     "exception": false,
     "start_time": "2022-07-11T13:00:51.020753",
     "status": "completed"
    },
    "tags": []
   },
   "outputs": [],
   "source": [
    "# Lines below will give you a hint or solution code\n",
    "#q1.hint()\n",
    "#q1.solution()"
   ]
  },
  {
   "cell_type": "markdown",
   "id": "b2f982c1",
   "metadata": {
    "papermill": {
     "duration": 0.005796,
     "end_time": "2022-07-11T13:00:51.049492",
     "exception": false,
     "start_time": "2022-07-11T13:00:51.043696",
     "status": "completed"
    },
    "tags": []
   },
   "source": [
    "# 2) Reading in files with encoding problems\n",
    "\n",
    "Use the code cell below to read in this file at path `\"../input/fatal-police-shootings-in-the-us/PoliceKillingsUS.csv\"`.  \n",
    "\n",
    "Figure out what the correct encoding should be and read in the file to a DataFrame `police_killings`."
   ]
  },
  {
   "cell_type": "code",
   "execution_count": 6,
   "id": "a249d641",
   "metadata": {
    "execution": {
     "iopub.execute_input": "2022-07-11T13:00:51.066664Z",
     "iopub.status.busy": "2022-07-11T13:00:51.065667Z",
     "iopub.status.idle": "2022-07-11T13:00:51.100973Z",
     "shell.execute_reply": "2022-07-11T13:00:51.099573Z"
    },
    "papermill": {
     "duration": 0.047499,
     "end_time": "2022-07-11T13:00:51.103781",
     "exception": false,
     "start_time": "2022-07-11T13:00:51.056282",
     "status": "completed"
    },
    "tags": []
   },
   "outputs": [
    {
     "data": {
      "application/javascript": [
       "parent.postMessage({\"jupyterEvent\": \"custom.exercise_interaction\", \"data\": {\"outcomeType\": 1, \"valueTowardsCompletion\": 0.3333333333333333, \"interactionType\": 1, \"questionType\": 1, \"questionId\": \"2_ReadIn\", \"learnToolsVersion\": \"0.3.4\", \"failureMessage\": \"\", \"exceptionClass\": \"\", \"trace\": \"\"}}, \"*\")"
      ],
      "text/plain": [
       "<IPython.core.display.Javascript object>"
      ]
     },
     "metadata": {},
     "output_type": "display_data"
    },
    {
     "data": {
      "text/markdown": [
       "<span style=\"color:#33cc33\">Correct</span>"
      ],
      "text/plain": [
       "Correct"
      ]
     },
     "metadata": {},
     "output_type": "display_data"
    }
   ],
   "source": [
    "# TODO: Load in the DataFrame correctly.\n",
    "police_killings = pd.read_csv(\"../input/fatal-police-shootings-in-the-us/PoliceKillingsUS.csv\",encoding='Windows-1252')\n",
    "\n",
    "\n",
    "# Check your answer\n",
    "q2.check()"
   ]
  },
  {
   "cell_type": "markdown",
   "id": "3265e5ad",
   "metadata": {
    "papermill": {
     "duration": 0.006795,
     "end_time": "2022-07-11T13:00:51.117205",
     "exception": false,
     "start_time": "2022-07-11T13:00:51.110410",
     "status": "completed"
    },
    "tags": []
   },
   "source": [
    "Feel free to use any additional code cells for supplemental work.  To get credit for finishing this question, you'll need to run `q2.check()` and get a result of **Correct**."
   ]
  },
  {
   "cell_type": "code",
   "execution_count": 7,
   "id": "1c883af5",
   "metadata": {
    "execution": {
     "iopub.execute_input": "2022-07-11T13:00:51.133757Z",
     "iopub.status.busy": "2022-07-11T13:00:51.133325Z",
     "iopub.status.idle": "2022-07-11T13:00:51.138930Z",
     "shell.execute_reply": "2022-07-11T13:00:51.137540Z"
    },
    "papermill": {
     "duration": 0.016661,
     "end_time": "2022-07-11T13:00:51.141837",
     "exception": false,
     "start_time": "2022-07-11T13:00:51.125176",
     "status": "completed"
    },
    "tags": []
   },
   "outputs": [],
   "source": [
    "# (Optional) Use this code cell for any additional work."
   ]
  },
  {
   "cell_type": "code",
   "execution_count": 8,
   "id": "88532d67",
   "metadata": {
    "execution": {
     "iopub.execute_input": "2022-07-11T13:00:51.158083Z",
     "iopub.status.busy": "2022-07-11T13:00:51.157197Z",
     "iopub.status.idle": "2022-07-11T13:00:51.162537Z",
     "shell.execute_reply": "2022-07-11T13:00:51.161537Z"
    },
    "papermill": {
     "duration": 0.016531,
     "end_time": "2022-07-11T13:00:51.165308",
     "exception": false,
     "start_time": "2022-07-11T13:00:51.148777",
     "status": "completed"
    },
    "tags": []
   },
   "outputs": [],
   "source": [
    "# Lines below will give you a hint or solution code\n",
    "#q2.hint()\n",
    "#q2.solution()"
   ]
  },
  {
   "cell_type": "markdown",
   "id": "f1790dea",
   "metadata": {
    "papermill": {
     "duration": 0.005953,
     "end_time": "2022-07-11T13:00:51.177835",
     "exception": false,
     "start_time": "2022-07-11T13:00:51.171882",
     "status": "completed"
    },
    "tags": []
   },
   "source": [
    "# 3) Saving your files with UTF-8 encoding\n",
    "\n",
    "Save a version of the police killings dataset to CSV with UTF-8 encoding.  Your answer will be marked correct after saving this file.  \n",
    "\n",
    "Note: When using the `to_csv()` method, supply only the name of the file (e.g., `\"my_file.csv\"`).  This saves the file at the filepath `\"/kaggle/working/my_file.csv\"`."
   ]
  },
  {
   "cell_type": "code",
   "execution_count": 9,
   "id": "025340c3",
   "metadata": {
    "execution": {
     "iopub.execute_input": "2022-07-11T13:00:51.195053Z",
     "iopub.status.busy": "2022-07-11T13:00:51.194440Z",
     "iopub.status.idle": "2022-07-11T13:00:51.244842Z",
     "shell.execute_reply": "2022-07-11T13:00:51.243444Z"
    },
    "papermill": {
     "duration": 0.063042,
     "end_time": "2022-07-11T13:00:51.247784",
     "exception": false,
     "start_time": "2022-07-11T13:00:51.184742",
     "status": "completed"
    },
    "tags": []
   },
   "outputs": [
    {
     "data": {
      "application/javascript": [
       "parent.postMessage({\"jupyterEvent\": \"custom.exercise_interaction\", \"data\": {\"outcomeType\": 1, \"valueTowardsCompletion\": 0.3333333333333333, \"interactionType\": 1, \"questionType\": 2, \"questionId\": \"3_SaveCSV\", \"learnToolsVersion\": \"0.3.4\", \"failureMessage\": \"\", \"exceptionClass\": \"\", \"trace\": \"\"}}, \"*\")"
      ],
      "text/plain": [
       "<IPython.core.display.Javascript object>"
      ]
     },
     "metadata": {},
     "output_type": "display_data"
    },
    {
     "data": {
      "text/markdown": [
       "<span style=\"color:#33cc33\">Correct</span>"
      ],
      "text/plain": [
       "Correct"
      ]
     },
     "metadata": {},
     "output_type": "display_data"
    }
   ],
   "source": [
    "# TODO: Save the police killings dataset to CSV\n",
    "police_killings.to_csv(\"PoliceKillingsUS-utf8.csv\")\n",
    "\n",
    "# Check your answer\n",
    "q3.check()"
   ]
  },
  {
   "cell_type": "code",
   "execution_count": 10,
   "id": "5fa9d97e",
   "metadata": {
    "execution": {
     "iopub.execute_input": "2022-07-11T13:00:51.264157Z",
     "iopub.status.busy": "2022-07-11T13:00:51.263304Z",
     "iopub.status.idle": "2022-07-11T13:00:51.268644Z",
     "shell.execute_reply": "2022-07-11T13:00:51.267604Z"
    },
    "papermill": {
     "duration": 0.017039,
     "end_time": "2022-07-11T13:00:51.271534",
     "exception": false,
     "start_time": "2022-07-11T13:00:51.254495",
     "status": "completed"
    },
    "tags": []
   },
   "outputs": [],
   "source": [
    "# Lines below will give you a hint or solution code\n",
    "#q3.hint()\n",
    "#q3.solution()"
   ]
  },
  {
   "cell_type": "markdown",
   "id": "ac52ff83",
   "metadata": {
    "papermill": {
     "duration": 0.006609,
     "end_time": "2022-07-11T13:00:51.285901",
     "exception": false,
     "start_time": "2022-07-11T13:00:51.279292",
     "status": "completed"
    },
    "tags": []
   },
   "source": [
    "# (Optional) More practice\n",
    "\n",
    "Check out [this dataset of files in different character encodings](https://www.kaggle.com/rtatman/character-encoding-examples). Can you read in all the files with their original encodings and them save them out as UTF-8 files?\n",
    "\n",
    "If you have a file that's in UTF-8 but has just a couple of weird-looking characters in it, you can try out the [ftfy module](https://ftfy.readthedocs.io/en/latest/#) and see if it helps. \n",
    "\n",
    "# Keep going\n",
    "\n",
    "In the final lesson, learn how to [**clean up inconsistent text entries**](https://www.kaggle.com/alexisbcook/inconsistent-data-entry) in your dataset."
   ]
  },
  {
   "cell_type": "markdown",
   "id": "1e4b5ea7",
   "metadata": {
    "papermill": {
     "duration": 0.006242,
     "end_time": "2022-07-11T13:00:51.298879",
     "exception": false,
     "start_time": "2022-07-11T13:00:51.292637",
     "status": "completed"
    },
    "tags": []
   },
   "source": [
    "---\n",
    "\n",
    "\n",
    "\n",
    "\n",
    "*Have questions or comments? Visit the [course discussion forum](https://www.kaggle.com/learn/data-cleaning/discussion) to chat with other learners.*"
   ]
  }
 ],
 "metadata": {
  "kernelspec": {
   "display_name": "Python 3",
   "language": "python",
   "name": "python3"
  },
  "language_info": {
   "codemirror_mode": {
    "name": "ipython",
    "version": 3
   },
   "file_extension": ".py",
   "mimetype": "text/x-python",
   "name": "python",
   "nbconvert_exporter": "python",
   "pygments_lexer": "ipython3",
   "version": "3.7.12"
  },
  "papermill": {
   "default_parameters": {},
   "duration": 17.308303,
   "end_time": "2022-07-11T13:00:52.332169",
   "environment_variables": {},
   "exception": null,
   "input_path": "__notebook__.ipynb",
   "output_path": "__notebook__.ipynb",
   "parameters": {},
   "start_time": "2022-07-11T13:00:35.023866",
   "version": "2.3.4"
  }
 },
 "nbformat": 4,
 "nbformat_minor": 5
}
